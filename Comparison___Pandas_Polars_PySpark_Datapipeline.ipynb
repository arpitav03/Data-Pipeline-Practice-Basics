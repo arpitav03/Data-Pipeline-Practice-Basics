{
  "nbformat": 4,
  "nbformat_minor": 0,
  "metadata": {
    "colab": {
      "provenance": [],
      "authorship_tag": "ABX9TyPu45B0uQ7LKJGh4Ic3OTqd",
      "include_colab_link": true
    },
    "kernelspec": {
      "name": "python3",
      "display_name": "Python 3"
    },
    "language_info": {
      "name": "python"
    }
  },
  "cells": [
    {
      "cell_type": "markdown",
      "metadata": {
        "id": "view-in-github",
        "colab_type": "text"
      },
      "source": [
        "<a href=\"https://colab.research.google.com/github/arpitav03/Data-Pipeline-Practice-Basics/blob/main/Comparison___Pandas_Polars_PySpark_Datapipeline.ipynb\" target=\"_parent\"><img src=\"https://colab.research.google.com/assets/colab-badge.svg\" alt=\"Open In Colab\"/></a>"
      ]
    },
    {
      "cell_type": "code",
      "source": [
        "!pip install pyspark"
      ],
      "metadata": {
        "id": "HcfybryApmbV"
      },
      "execution_count": null,
      "outputs": []
    },
    {
      "cell_type": "code",
      "source": [
        "!pip install pyspark[sql]"
      ],
      "metadata": {
        "id": "zaFAdL9Gpxtf"
      },
      "execution_count": null,
      "outputs": []
    },
    {
      "cell_type": "markdown",
      "source": [
        "## **Using Pandas**"
      ],
      "metadata": {
        "id": "fBVk1PrcxtnU"
      }
    },
    {
      "cell_type": "code",
      "execution_count": 9,
      "metadata": {
        "id": "i34jU3G5nuVx"
      },
      "outputs": [],
      "source": [
        "import pandas as pd\n",
        "flights = \"flights.parquet\""
      ]
    },
    {
      "cell_type": "code",
      "source": [
        "df = pd.read_parquet(flights)"
      ],
      "metadata": {
        "id": "VAuIekZTqMP1"
      },
      "execution_count": 10,
      "outputs": []
    },
    {
      "cell_type": "code",
      "source": [
        "df.info()"
      ],
      "metadata": {
        "id": "EP2M54BVqvKs"
      },
      "execution_count": null,
      "outputs": []
    },
    {
      "cell_type": "code",
      "source": [
        "df.head()"
      ],
      "metadata": {
        "id": "dTkj9xkOr06D"
      },
      "execution_count": null,
      "outputs": []
    },
    {
      "cell_type": "code",
      "source": [
        "df['Airline']"
      ],
      "metadata": {
        "id": "hHB5Zdv0sOSK"
      },
      "execution_count": null,
      "outputs": []
    },
    {
      "cell_type": "markdown",
      "source": [
        "**Aggregations and saving in a new file**"
      ],
      "metadata": {
        "id": "JSrUGw28tB46"
      }
    },
    {
      "cell_type": "code",
      "source": [
        "df_agg = df.groupby(['Airline','Year'])[[\"DepDelayMinutes\", \"ArrDelayMinutes\"]].agg(\n",
        "    [\"mean\",\"sum\",\"max\"]\n",
        ")\n",
        "df_agg.reset_index()\n",
        "df_agg.to_parquet(\"temp_pandas.parquet\")"
      ],
      "metadata": {
        "id": "0lqc_ubHs-eP"
      },
      "execution_count": 20,
      "outputs": []
    },
    {
      "cell_type": "code",
      "source": [
        "pd.read_parquet(\"temp_pandas.parquet\")"
      ],
      "metadata": {
        "id": "WjEWr6mRuwI7"
      },
      "execution_count": null,
      "outputs": []
    },
    {
      "cell_type": "markdown",
      "source": [
        "### **Using Polars**"
      ],
      "metadata": {
        "id": "6rGo4Jx0vPLi"
      }
    },
    {
      "cell_type": "code",
      "source": [
        "import polars as pl\n",
        "df_polars = (pl.scan_parquet(flights).groupby(['Airline','Year'])\\\n",
        "                .agg(\n",
        "                    [pl.col(\"DepDelayMinutes\").mean().alias(\"avg_dep_delay\"),\n",
        "                     pl.col(\"DepDelayMinutes\").sum().alias(\"sum_dep_delay\"),\n",
        "                     pl.col(\"DepDelayMinutes\").max().alias(\"max_dep_delay\"),\n",
        "                     pl.col(\"ArrDelayMinutes\").mean().alias(\"avg_arr_delay\"),\n",
        "                     pl.col(\"ArrDelayMinutes\").sum().alias(\"sum_arr_delay\"),\n",
        "                     pl.col(\"ArrDelayMinutes\").max().alias(\"max_arr_delay\")])\n",
        ").collect()\n",
        "\n",
        "df_polars.write_parquet('temp_polars.parquet')"
      ],
      "metadata": {
        "id": "DyE2HoOCvNsM"
      },
      "execution_count": 24,
      "outputs": []
    },
    {
      "cell_type": "code",
      "source": [
        "df_polars.head"
      ],
      "metadata": {
        "id": "8U3j4-hUxWz8"
      },
      "execution_count": null,
      "outputs": []
    },
    {
      "cell_type": "markdown",
      "source": [
        "## **Using Pyspark**"
      ],
      "metadata": {
        "id": "dz88RJVuxioz"
      }
    },
    {
      "cell_type": "code",
      "source": [
        "from pyspark.sql import SparkSession\n",
        "from pyspark.sql.functions import avg,max,sum\n",
        "\n",
        "#Create SparkSession\n",
        "\n",
        "spark = SparkSession.builder.master(\"local[1]\").appName(\"airline-example\").getOrCreate()\n",
        "flights = \"flights.parquet\""
      ],
      "metadata": {
        "id": "p8ZqK7g8xdEE"
      },
      "execution_count": 30,
      "outputs": []
    },
    {
      "cell_type": "code",
      "source": [
        "df_spark = spark.read.parquet(flights)\n",
        "df_spark_agg = df_spark.groupby(\"Airline\", \"Year\").agg(\n",
        "                    avg(\"DepDelayMinutes\").alias(\"avg_dep_delay\"),\n",
        "                    sum(\"DepDelayMinutes\").alias(\"sum_dep_delay\"),\n",
        "                    max(\"DepDelayMinutes\").alias(\"max_dep_delay\"),\n",
        "                    avg(\"ArrDelayMinutes\").alias(\"avg_arr_delay\"),\n",
        "                    sum(\"ArrDelayMinutes\").alias(\"sum_arr_delay\"),\n",
        "                    max(\"ArrDelayMinutes\").alias(\"max_arr_delay\"))\n",
        "df_spark_agg.write.mode('overwrite').parquet('temp.parquet')\n",
        "pd.read_parquet('temp.parquet')"
      ],
      "metadata": {
        "id": "QaZG0Xwm1Jnj"
      },
      "execution_count": null,
      "outputs": []
    }
  ]
}